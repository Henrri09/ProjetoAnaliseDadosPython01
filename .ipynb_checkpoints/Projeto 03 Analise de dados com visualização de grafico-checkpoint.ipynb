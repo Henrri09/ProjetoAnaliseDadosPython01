{
 "cells": [
  {
   "cell_type": "markdown",
   "id": "3c9f8bec",
   "metadata": {},
   "source": [
    "# Análise de dados com python"
   ]
  },
  {
   "cell_type": "code",
   "execution_count": 1,
   "id": "74bbcef3",
   "metadata": {},
   "outputs": [],
   "source": [
    "import pandas as pd"
   ]
  },
  {
   "cell_type": "code",
   "execution_count": 2,
   "id": "a3c05956",
   "metadata": {},
   "outputs": [],
   "source": [
    "# carregar dados para análise\n",
    "\n",
    "dados = pd.read_excel(\"vendas.xlsx\")"
   ]
  },
  {
   "cell_type": "markdown",
   "id": "649186b7",
   "metadata": {},
   "source": [
    "## Análise exploratória"
   ]
  },
  {
   "cell_type": "code",
   "execution_count": 3,
   "id": "daa27bcd",
   "metadata": {},
   "outputs": [
    {
     "data": {
      "text/html": [
       "<div>\n",
       "<style scoped>\n",
       "    .dataframe tbody tr th:only-of-type {\n",
       "        vertical-align: middle;\n",
       "    }\n",
       "\n",
       "    .dataframe tbody tr th {\n",
       "        vertical-align: top;\n",
       "    }\n",
       "\n",
       "    .dataframe thead th {\n",
       "        text-align: right;\n",
       "    }\n",
       "</style>\n",
       "<table border=\"1\" class=\"dataframe\">\n",
       "  <thead>\n",
       "    <tr style=\"text-align: right;\">\n",
       "      <th></th>\n",
       "      <th>id_pedido</th>\n",
       "      <th>data</th>\n",
       "      <th>loja</th>\n",
       "      <th>cidade</th>\n",
       "      <th>estado</th>\n",
       "      <th>regiao</th>\n",
       "      <th>tamanho</th>\n",
       "      <th>local_consumo</th>\n",
       "      <th>preco</th>\n",
       "      <th>forma_pagamento</th>\n",
       "      <th>ano_mes</th>\n",
       "    </tr>\n",
       "  </thead>\n",
       "  <tbody>\n",
       "    <tr>\n",
       "      <th>0</th>\n",
       "      <td>PED1994</td>\n",
       "      <td>2020-01-01</td>\n",
       "      <td>Loja 4</td>\n",
       "      <td>Santos</td>\n",
       "      <td>São Paulo</td>\n",
       "      <td>Sudeste</td>\n",
       "      <td>300ml</td>\n",
       "      <td>Consumo no local</td>\n",
       "      <td>5</td>\n",
       "      <td>Dinheiro</td>\n",
       "      <td>2020-01</td>\n",
       "    </tr>\n",
       "    <tr>\n",
       "      <th>1</th>\n",
       "      <td>PED2246</td>\n",
       "      <td>2020-01-01</td>\n",
       "      <td>Loja 6</td>\n",
       "      <td>Florianópolis</td>\n",
       "      <td>Santa Catarina</td>\n",
       "      <td>Sul</td>\n",
       "      <td>500ml</td>\n",
       "      <td>Consumo no local</td>\n",
       "      <td>11</td>\n",
       "      <td>Débito</td>\n",
       "      <td>2020-01</td>\n",
       "    </tr>\n",
       "    <tr>\n",
       "      <th>2</th>\n",
       "      <td>PED3876</td>\n",
       "      <td>2020-01-01</td>\n",
       "      <td>Loja 3</td>\n",
       "      <td>Rio de Janeiro</td>\n",
       "      <td>Rio de Janeiro</td>\n",
       "      <td>Sudeste</td>\n",
       "      <td>300ml</td>\n",
       "      <td>Delivery</td>\n",
       "      <td>7</td>\n",
       "      <td>Crédito</td>\n",
       "      <td>2020-01</td>\n",
       "    </tr>\n",
       "    <tr>\n",
       "      <th>3</th>\n",
       "      <td>PED4352</td>\n",
       "      <td>2020-01-01</td>\n",
       "      <td>Loja 1</td>\n",
       "      <td>Fortaleza</td>\n",
       "      <td>Ceará</td>\n",
       "      <td>Nordeste</td>\n",
       "      <td>1000ml</td>\n",
       "      <td>Consumo no local</td>\n",
       "      <td>7</td>\n",
       "      <td>Débito</td>\n",
       "      <td>2020-01</td>\n",
       "    </tr>\n",
       "    <tr>\n",
       "      <th>4</th>\n",
       "      <td>PED8633</td>\n",
       "      <td>2020-01-01</td>\n",
       "      <td>Loja 5</td>\n",
       "      <td>São Paulo</td>\n",
       "      <td>São Paulo</td>\n",
       "      <td>Sudeste</td>\n",
       "      <td>200ml</td>\n",
       "      <td>Delivery</td>\n",
       "      <td>9</td>\n",
       "      <td>Crédito</td>\n",
       "      <td>2020-01</td>\n",
       "    </tr>\n",
       "  </tbody>\n",
       "</table>\n",
       "</div>"
      ],
      "text/plain": [
       "  id_pedido       data    loja          cidade          estado    regiao  \\\n",
       "0   PED1994 2020-01-01  Loja 4          Santos       São Paulo   Sudeste   \n",
       "1   PED2246 2020-01-01  Loja 6   Florianópolis  Santa Catarina       Sul   \n",
       "2   PED3876 2020-01-01  Loja 3  Rio de Janeiro  Rio de Janeiro   Sudeste   \n",
       "3   PED4352 2020-01-01  Loja 1       Fortaleza           Ceará  Nordeste   \n",
       "4   PED8633 2020-01-01  Loja 5       São Paulo       São Paulo   Sudeste   \n",
       "\n",
       "  tamanho     local_consumo  preco forma_pagamento  ano_mes  \n",
       "0   300ml  Consumo no local      5        Dinheiro  2020-01  \n",
       "1   500ml  Consumo no local     11          Débito  2020-01  \n",
       "2   300ml          Delivery      7         Crédito  2020-01  \n",
       "3  1000ml  Consumo no local      7          Débito  2020-01  \n",
       "4   200ml          Delivery      9         Crédito  2020-01  "
      ]
     },
     "execution_count": 3,
     "metadata": {},
     "output_type": "execute_result"
    }
   ],
   "source": [
    "# listar primeiras linhas\n",
    "\n",
    "dados.head()"
   ]
  },
  {
   "cell_type": "code",
   "execution_count": 4,
   "id": "5015d5cb",
   "metadata": {},
   "outputs": [
    {
     "data": {
      "text/html": [
       "<div>\n",
       "<style scoped>\n",
       "    .dataframe tbody tr th:only-of-type {\n",
       "        vertical-align: middle;\n",
       "    }\n",
       "\n",
       "    .dataframe tbody tr th {\n",
       "        vertical-align: top;\n",
       "    }\n",
       "\n",
       "    .dataframe thead th {\n",
       "        text-align: right;\n",
       "    }\n",
       "</style>\n",
       "<table border=\"1\" class=\"dataframe\">\n",
       "  <thead>\n",
       "    <tr style=\"text-align: right;\">\n",
       "      <th></th>\n",
       "      <th>id_pedido</th>\n",
       "      <th>data</th>\n",
       "      <th>loja</th>\n",
       "      <th>cidade</th>\n",
       "      <th>estado</th>\n",
       "      <th>regiao</th>\n",
       "      <th>tamanho</th>\n",
       "      <th>local_consumo</th>\n",
       "      <th>preco</th>\n",
       "      <th>forma_pagamento</th>\n",
       "      <th>ano_mes</th>\n",
       "    </tr>\n",
       "  </thead>\n",
       "  <tbody>\n",
       "    <tr>\n",
       "      <th>69995</th>\n",
       "      <td>PED67084</td>\n",
       "      <td>2022-12-31</td>\n",
       "      <td>Loja 6</td>\n",
       "      <td>Florianópolis</td>\n",
       "      <td>Santa Catarina</td>\n",
       "      <td>Sul</td>\n",
       "      <td>500ml</td>\n",
       "      <td>Consumo no local</td>\n",
       "      <td>11</td>\n",
       "      <td>Crédito</td>\n",
       "      <td>2022-12</td>\n",
       "    </tr>\n",
       "    <tr>\n",
       "      <th>69996</th>\n",
       "      <td>PED67857</td>\n",
       "      <td>2022-12-31</td>\n",
       "      <td>Loja 3</td>\n",
       "      <td>Rio de Janeiro</td>\n",
       "      <td>Rio de Janeiro</td>\n",
       "      <td>Sudeste</td>\n",
       "      <td>200ml</td>\n",
       "      <td>Consumo no local</td>\n",
       "      <td>7</td>\n",
       "      <td>Pix</td>\n",
       "      <td>2022-12</td>\n",
       "    </tr>\n",
       "    <tr>\n",
       "      <th>69997</th>\n",
       "      <td>PED69171</td>\n",
       "      <td>2022-12-31</td>\n",
       "      <td>Loja 4</td>\n",
       "      <td>Santos</td>\n",
       "      <td>São Paulo</td>\n",
       "      <td>Sudeste</td>\n",
       "      <td>500ml</td>\n",
       "      <td>Consumo no local</td>\n",
       "      <td>5</td>\n",
       "      <td>Dinheiro</td>\n",
       "      <td>2022-12</td>\n",
       "    </tr>\n",
       "    <tr>\n",
       "      <th>69998</th>\n",
       "      <td>PED69229</td>\n",
       "      <td>2022-12-31</td>\n",
       "      <td>Loja 4</td>\n",
       "      <td>Santos</td>\n",
       "      <td>São Paulo</td>\n",
       "      <td>Sudeste</td>\n",
       "      <td>300ml</td>\n",
       "      <td>Consumo no local</td>\n",
       "      <td>9</td>\n",
       "      <td>Pix</td>\n",
       "      <td>2022-12</td>\n",
       "    </tr>\n",
       "    <tr>\n",
       "      <th>69999</th>\n",
       "      <td>PED69356</td>\n",
       "      <td>2022-12-31</td>\n",
       "      <td>Loja 1</td>\n",
       "      <td>Fortaleza</td>\n",
       "      <td>Ceará</td>\n",
       "      <td>Nordeste</td>\n",
       "      <td>300ml</td>\n",
       "      <td>Delivery</td>\n",
       "      <td>9</td>\n",
       "      <td>Pix</td>\n",
       "      <td>2022-12</td>\n",
       "    </tr>\n",
       "  </tbody>\n",
       "</table>\n",
       "</div>"
      ],
      "text/plain": [
       "      id_pedido       data    loja          cidade          estado    regiao  \\\n",
       "69995  PED67084 2022-12-31  Loja 6   Florianópolis  Santa Catarina       Sul   \n",
       "69996  PED67857 2022-12-31  Loja 3  Rio de Janeiro  Rio de Janeiro   Sudeste   \n",
       "69997  PED69171 2022-12-31  Loja 4          Santos       São Paulo   Sudeste   \n",
       "69998  PED69229 2022-12-31  Loja 4          Santos       São Paulo   Sudeste   \n",
       "69999  PED69356 2022-12-31  Loja 1       Fortaleza           Ceará  Nordeste   \n",
       "\n",
       "      tamanho     local_consumo  preco forma_pagamento  ano_mes  \n",
       "69995   500ml  Consumo no local     11         Crédito  2022-12  \n",
       "69996   200ml  Consumo no local      7             Pix  2022-12  \n",
       "69997   500ml  Consumo no local      5        Dinheiro  2022-12  \n",
       "69998   300ml  Consumo no local      9             Pix  2022-12  \n",
       "69999   300ml          Delivery      9             Pix  2022-12  "
      ]
     },
     "execution_count": 4,
     "metadata": {},
     "output_type": "execute_result"
    }
   ],
   "source": [
    "# listar ultimas linhas\n",
    "\n",
    "dados.tail()"
   ]
  },
  {
   "cell_type": "code",
   "execution_count": 5,
   "id": "3cc9310d",
   "metadata": {},
   "outputs": [
    {
     "data": {
      "text/plain": [
       "(70000, 11)"
      ]
     },
     "execution_count": 5,
     "metadata": {},
     "output_type": "execute_result"
    }
   ],
   "source": [
    "# tamanho da tabela \n",
    "\n",
    "dados.shape"
   ]
  },
  {
   "cell_type": "code",
   "execution_count": 6,
   "id": "85f6104e",
   "metadata": {},
   "outputs": [
    {
     "data": {
      "text/plain": [
       "id_pedido                  object\n",
       "data               datetime64[ns]\n",
       "loja                       object\n",
       "cidade                     object\n",
       "estado                     object\n",
       "regiao                     object\n",
       "tamanho                    object\n",
       "local_consumo              object\n",
       "preco                       int64\n",
       "forma_pagamento            object\n",
       "ano_mes                    object\n",
       "dtype: object"
      ]
     },
     "execution_count": 6,
     "metadata": {},
     "output_type": "execute_result"
    }
   ],
   "source": [
    "# tipos de dados\n",
    "dados.dtypes"
   ]
  },
  {
   "cell_type": "markdown",
   "id": "8814e3b0",
   "metadata": {},
   "source": [
    "## Estatiscicas"
   ]
  },
  {
   "cell_type": "code",
   "execution_count": 7,
   "id": "2c3fe4d1",
   "metadata": {},
   "outputs": [
    {
     "data": {
      "text/html": [
       "<div>\n",
       "<style scoped>\n",
       "    .dataframe tbody tr th:only-of-type {\n",
       "        vertical-align: middle;\n",
       "    }\n",
       "\n",
       "    .dataframe tbody tr th {\n",
       "        vertical-align: top;\n",
       "    }\n",
       "\n",
       "    .dataframe thead th {\n",
       "        text-align: right;\n",
       "    }\n",
       "</style>\n",
       "<table border=\"1\" class=\"dataframe\">\n",
       "  <thead>\n",
       "    <tr style=\"text-align: right;\">\n",
       "      <th></th>\n",
       "      <th>preco</th>\n",
       "    </tr>\n",
       "  </thead>\n",
       "  <tbody>\n",
       "    <tr>\n",
       "      <th>count</th>\n",
       "      <td>70000.000000</td>\n",
       "    </tr>\n",
       "    <tr>\n",
       "      <th>mean</th>\n",
       "      <td>8.355200</td>\n",
       "    </tr>\n",
       "    <tr>\n",
       "      <th>std</th>\n",
       "      <td>2.653061</td>\n",
       "    </tr>\n",
       "    <tr>\n",
       "      <th>min</th>\n",
       "      <td>5.000000</td>\n",
       "    </tr>\n",
       "    <tr>\n",
       "      <th>25%</th>\n",
       "      <td>7.000000</td>\n",
       "    </tr>\n",
       "    <tr>\n",
       "      <th>50%</th>\n",
       "      <td>7.000000</td>\n",
       "    </tr>\n",
       "    <tr>\n",
       "      <th>75%</th>\n",
       "      <td>11.000000</td>\n",
       "    </tr>\n",
       "    <tr>\n",
       "      <th>max</th>\n",
       "      <td>13.000000</td>\n",
       "    </tr>\n",
       "  </tbody>\n",
       "</table>\n",
       "</div>"
      ],
      "text/plain": [
       "              preco\n",
       "count  70000.000000\n",
       "mean       8.355200\n",
       "std        2.653061\n",
       "min        5.000000\n",
       "25%        7.000000\n",
       "50%        7.000000\n",
       "75%       11.000000\n",
       "max       13.000000"
      ]
     },
     "execution_count": 7,
     "metadata": {},
     "output_type": "execute_result"
    }
   ],
   "source": [
    "# gerando estatisticas\n",
    "\n",
    "dados.describe()\n",
    "\n",
    "# mean = média\n",
    "# std = desvio padrão\n",
    "# min = minima\n",
    "# 25% = primeiro quartil\n",
    "# 50% = segundo quartil - também mediana\n",
    "# 75% = terceiro quartil\n",
    "# max = valor máximo"
   ]
  },
  {
   "cell_type": "code",
   "execution_count": 8,
   "id": "46d3fd50",
   "metadata": {},
   "outputs": [
    {
     "data": {
      "text/plain": [
       "Loja 4    13483\n",
       "Loja 6    13075\n",
       "Loja 1    12344\n",
       "Loja 5    12177\n",
       "Loja 3    10603\n",
       "Loja 2     8318\n",
       "Name: loja, dtype: int64"
      ]
     },
     "execution_count": 8,
     "metadata": {},
     "output_type": "execute_result"
    }
   ],
   "source": [
    "# total de pedido por loja\n",
    "\n",
    "dados.loja.value_counts()"
   ]
  },
  {
   "cell_type": "code",
   "execution_count": 9,
   "id": "bea747e0",
   "metadata": {},
   "outputs": [
    {
     "data": {
      "text/plain": [
       "300ml     20475\n",
       "200ml     15804\n",
       "500ml     13591\n",
       "700ml     11158\n",
       "1000ml     8972\n",
       "Name: tamanho, dtype: int64"
      ]
     },
     "execution_count": 9,
     "metadata": {},
     "output_type": "execute_result"
    }
   ],
   "source": [
    "# total de pedidos por tamanho\n",
    "\n",
    "dados.tamanho.value_counts()"
   ]
  },
  {
   "cell_type": "code",
   "execution_count": 10,
   "id": "2ead966a",
   "metadata": {},
   "outputs": [
    {
     "data": {
      "text/plain": [
       "Crédito     26063\n",
       "Débito      20427\n",
       "Dinheiro    14709\n",
       "Pix          8801\n",
       "Name: forma_pagamento, dtype: int64"
      ]
     },
     "execution_count": 10,
     "metadata": {},
     "output_type": "execute_result"
    }
   ],
   "source": [
    "# total de pedidos por pagamento\n",
    "\n",
    "dados.forma_pagamento.value_counts()"
   ]
  },
  {
   "cell_type": "code",
   "execution_count": 11,
   "id": "8840de01",
   "metadata": {},
   "outputs": [
    {
     "data": {
      "text/html": [
       "<div>\n",
       "<style scoped>\n",
       "    .dataframe tbody tr th:only-of-type {\n",
       "        vertical-align: middle;\n",
       "    }\n",
       "\n",
       "    .dataframe tbody tr th {\n",
       "        vertical-align: top;\n",
       "    }\n",
       "\n",
       "    .dataframe thead th {\n",
       "        text-align: right;\n",
       "    }\n",
       "</style>\n",
       "<table border=\"1\" class=\"dataframe\">\n",
       "  <thead>\n",
       "    <tr style=\"text-align: right;\">\n",
       "      <th></th>\n",
       "      <th>id_pedido</th>\n",
       "      <th>data</th>\n",
       "      <th>loja</th>\n",
       "      <th>cidade</th>\n",
       "      <th>estado</th>\n",
       "      <th>regiao</th>\n",
       "      <th>tamanho</th>\n",
       "      <th>local_consumo</th>\n",
       "      <th>preco</th>\n",
       "      <th>forma_pagamento</th>\n",
       "      <th>ano_mes</th>\n",
       "    </tr>\n",
       "  </thead>\n",
       "  <tbody>\n",
       "    <tr>\n",
       "      <th>0</th>\n",
       "      <td>PED1994</td>\n",
       "      <td>2020-01-01</td>\n",
       "      <td>Loja 4</td>\n",
       "      <td>Santos</td>\n",
       "      <td>São Paulo</td>\n",
       "      <td>Sudeste</td>\n",
       "      <td>300ml</td>\n",
       "      <td>Consumo no local</td>\n",
       "      <td>5</td>\n",
       "      <td>Dinheiro</td>\n",
       "      <td>2020-01</td>\n",
       "    </tr>\n",
       "    <tr>\n",
       "      <th>1</th>\n",
       "      <td>PED2246</td>\n",
       "      <td>2020-01-01</td>\n",
       "      <td>Loja 6</td>\n",
       "      <td>Florianópolis</td>\n",
       "      <td>Santa Catarina</td>\n",
       "      <td>Sul</td>\n",
       "      <td>500ml</td>\n",
       "      <td>Consumo no local</td>\n",
       "      <td>11</td>\n",
       "      <td>Débito</td>\n",
       "      <td>2020-01</td>\n",
       "    </tr>\n",
       "    <tr>\n",
       "      <th>2</th>\n",
       "      <td>PED3876</td>\n",
       "      <td>2020-01-01</td>\n",
       "      <td>Loja 3</td>\n",
       "      <td>Rio de Janeiro</td>\n",
       "      <td>Rio de Janeiro</td>\n",
       "      <td>Sudeste</td>\n",
       "      <td>300ml</td>\n",
       "      <td>Delivery</td>\n",
       "      <td>7</td>\n",
       "      <td>Crédito</td>\n",
       "      <td>2020-01</td>\n",
       "    </tr>\n",
       "    <tr>\n",
       "      <th>3</th>\n",
       "      <td>PED4352</td>\n",
       "      <td>2020-01-01</td>\n",
       "      <td>Loja 1</td>\n",
       "      <td>Fortaleza</td>\n",
       "      <td>Ceará</td>\n",
       "      <td>Nordeste</td>\n",
       "      <td>1000ml</td>\n",
       "      <td>Consumo no local</td>\n",
       "      <td>7</td>\n",
       "      <td>Débito</td>\n",
       "      <td>2020-01</td>\n",
       "    </tr>\n",
       "    <tr>\n",
       "      <th>4</th>\n",
       "      <td>PED8633</td>\n",
       "      <td>2020-01-01</td>\n",
       "      <td>Loja 5</td>\n",
       "      <td>São Paulo</td>\n",
       "      <td>São Paulo</td>\n",
       "      <td>Sudeste</td>\n",
       "      <td>200ml</td>\n",
       "      <td>Delivery</td>\n",
       "      <td>9</td>\n",
       "      <td>Crédito</td>\n",
       "      <td>2020-01</td>\n",
       "    </tr>\n",
       "    <tr>\n",
       "      <th>...</th>\n",
       "      <td>...</td>\n",
       "      <td>...</td>\n",
       "      <td>...</td>\n",
       "      <td>...</td>\n",
       "      <td>...</td>\n",
       "      <td>...</td>\n",
       "      <td>...</td>\n",
       "      <td>...</td>\n",
       "      <td>...</td>\n",
       "      <td>...</td>\n",
       "      <td>...</td>\n",
       "    </tr>\n",
       "    <tr>\n",
       "      <th>69995</th>\n",
       "      <td>PED67084</td>\n",
       "      <td>2022-12-31</td>\n",
       "      <td>Loja 6</td>\n",
       "      <td>Florianópolis</td>\n",
       "      <td>Santa Catarina</td>\n",
       "      <td>Sul</td>\n",
       "      <td>500ml</td>\n",
       "      <td>Consumo no local</td>\n",
       "      <td>11</td>\n",
       "      <td>Crédito</td>\n",
       "      <td>2022-12</td>\n",
       "    </tr>\n",
       "    <tr>\n",
       "      <th>69996</th>\n",
       "      <td>PED67857</td>\n",
       "      <td>2022-12-31</td>\n",
       "      <td>Loja 3</td>\n",
       "      <td>Rio de Janeiro</td>\n",
       "      <td>Rio de Janeiro</td>\n",
       "      <td>Sudeste</td>\n",
       "      <td>200ml</td>\n",
       "      <td>Consumo no local</td>\n",
       "      <td>7</td>\n",
       "      <td>Pix</td>\n",
       "      <td>2022-12</td>\n",
       "    </tr>\n",
       "    <tr>\n",
       "      <th>69997</th>\n",
       "      <td>PED69171</td>\n",
       "      <td>2022-12-31</td>\n",
       "      <td>Loja 4</td>\n",
       "      <td>Santos</td>\n",
       "      <td>São Paulo</td>\n",
       "      <td>Sudeste</td>\n",
       "      <td>500ml</td>\n",
       "      <td>Consumo no local</td>\n",
       "      <td>5</td>\n",
       "      <td>Dinheiro</td>\n",
       "      <td>2022-12</td>\n",
       "    </tr>\n",
       "    <tr>\n",
       "      <th>69998</th>\n",
       "      <td>PED69229</td>\n",
       "      <td>2022-12-31</td>\n",
       "      <td>Loja 4</td>\n",
       "      <td>Santos</td>\n",
       "      <td>São Paulo</td>\n",
       "      <td>Sudeste</td>\n",
       "      <td>300ml</td>\n",
       "      <td>Consumo no local</td>\n",
       "      <td>9</td>\n",
       "      <td>Pix</td>\n",
       "      <td>2022-12</td>\n",
       "    </tr>\n",
       "    <tr>\n",
       "      <th>69999</th>\n",
       "      <td>PED69356</td>\n",
       "      <td>2022-12-31</td>\n",
       "      <td>Loja 1</td>\n",
       "      <td>Fortaleza</td>\n",
       "      <td>Ceará</td>\n",
       "      <td>Nordeste</td>\n",
       "      <td>300ml</td>\n",
       "      <td>Delivery</td>\n",
       "      <td>9</td>\n",
       "      <td>Pix</td>\n",
       "      <td>2022-12</td>\n",
       "    </tr>\n",
       "  </tbody>\n",
       "</table>\n",
       "<p>70000 rows × 11 columns</p>\n",
       "</div>"
      ],
      "text/plain": [
       "      id_pedido       data    loja          cidade          estado    regiao  \\\n",
       "0       PED1994 2020-01-01  Loja 4          Santos       São Paulo   Sudeste   \n",
       "1       PED2246 2020-01-01  Loja 6   Florianópolis  Santa Catarina       Sul   \n",
       "2       PED3876 2020-01-01  Loja 3  Rio de Janeiro  Rio de Janeiro   Sudeste   \n",
       "3       PED4352 2020-01-01  Loja 1       Fortaleza           Ceará  Nordeste   \n",
       "4       PED8633 2020-01-01  Loja 5       São Paulo       São Paulo   Sudeste   \n",
       "...         ...        ...     ...             ...             ...       ...   \n",
       "69995  PED67084 2022-12-31  Loja 6   Florianópolis  Santa Catarina       Sul   \n",
       "69996  PED67857 2022-12-31  Loja 3  Rio de Janeiro  Rio de Janeiro   Sudeste   \n",
       "69997  PED69171 2022-12-31  Loja 4          Santos       São Paulo   Sudeste   \n",
       "69998  PED69229 2022-12-31  Loja 4          Santos       São Paulo   Sudeste   \n",
       "69999  PED69356 2022-12-31  Loja 1       Fortaleza           Ceará  Nordeste   \n",
       "\n",
       "      tamanho     local_consumo  preco forma_pagamento  ano_mes  \n",
       "0       300ml  Consumo no local      5        Dinheiro  2020-01  \n",
       "1       500ml  Consumo no local     11          Débito  2020-01  \n",
       "2       300ml          Delivery      7         Crédito  2020-01  \n",
       "3      1000ml  Consumo no local      7          Débito  2020-01  \n",
       "4       200ml          Delivery      9         Crédito  2020-01  \n",
       "...       ...               ...    ...             ...      ...  \n",
       "69995   500ml  Consumo no local     11         Crédito  2022-12  \n",
       "69996   200ml  Consumo no local      7             Pix  2022-12  \n",
       "69997   500ml  Consumo no local      5        Dinheiro  2022-12  \n",
       "69998   300ml  Consumo no local      9             Pix  2022-12  \n",
       "69999   300ml          Delivery      9             Pix  2022-12  \n",
       "\n",
       "[70000 rows x 11 columns]"
      ]
     },
     "execution_count": 11,
     "metadata": {},
     "output_type": "execute_result"
    }
   ],
   "source": [
    "dados"
   ]
  },
  {
   "cell_type": "markdown",
   "id": "8db78f4b",
   "metadata": {},
   "source": [
    "## Agrupamento de dados"
   ]
  },
  {
   "cell_type": "code",
   "execution_count": 12,
   "id": "c478535b",
   "metadata": {},
   "outputs": [
    {
     "data": {
      "text/plain": [
       "loja\n",
       "Loja 1    103162\n",
       "Loja 2     69592\n",
       "Loja 3     88357\n",
       "Loja 4    112379\n",
       "Loja 5    102189\n",
       "Loja 6    109185\n",
       "Name: preco, dtype: int64"
      ]
     },
     "execution_count": 12,
     "metadata": {},
     "output_type": "execute_result"
    }
   ],
   "source": [
    "# faturamento por loja\n",
    "\n",
    "dados.groupby(\"loja\").preco.sum()"
   ]
  },
  {
   "cell_type": "code",
   "execution_count": 13,
   "id": "f1040fbe",
   "metadata": {},
   "outputs": [
    {
     "data": {
      "text/plain": [
       "loja\n",
       "Loja 1    8.357259\n",
       "Loja 2    8.366434\n",
       "Loja 3    8.333208\n",
       "Loja 4    8.334866\n",
       "Loja 5    8.391968\n",
       "Loja 6    8.350669\n",
       "Name: preco, dtype: float64"
      ]
     },
     "execution_count": 13,
     "metadata": {},
     "output_type": "execute_result"
    }
   ],
   "source": [
    "# fartuamento por médio por loja\n",
    "\n",
    "dados.groupby(\"loja\").preco.mean()"
   ]
  },
  {
   "cell_type": "code",
   "execution_count": 14,
   "id": "7bace290",
   "metadata": {},
   "outputs": [
    {
     "data": {
      "text/plain": [
       "estado\n",
       "Ceará             103162\n",
       "Rio de Janeiro    157949\n",
       "Santa Catarina    109185\n",
       "São Paulo         214568\n",
       "Name: preco, dtype: int64"
      ]
     },
     "execution_count": 14,
     "metadata": {},
     "output_type": "execute_result"
    }
   ],
   "source": [
    "# faturamento por estado\n",
    "\n",
    "dados.groupby(\"estado\").preco.sum()"
   ]
  },
  {
   "cell_type": "code",
   "execution_count": 15,
   "id": "85a169c8",
   "metadata": {},
   "outputs": [
    {
     "data": {
      "text/html": [
       "<div>\n",
       "<style scoped>\n",
       "    .dataframe tbody tr th:only-of-type {\n",
       "        vertical-align: middle;\n",
       "    }\n",
       "\n",
       "    .dataframe tbody tr th {\n",
       "        vertical-align: top;\n",
       "    }\n",
       "\n",
       "    .dataframe thead th {\n",
       "        text-align: right;\n",
       "    }\n",
       "</style>\n",
       "<table border=\"1\" class=\"dataframe\">\n",
       "  <thead>\n",
       "    <tr style=\"text-align: right;\">\n",
       "      <th></th>\n",
       "      <th></th>\n",
       "      <th>preco</th>\n",
       "    </tr>\n",
       "    <tr>\n",
       "      <th>estado</th>\n",
       "      <th>cidade</th>\n",
       "      <th></th>\n",
       "    </tr>\n",
       "  </thead>\n",
       "  <tbody>\n",
       "    <tr>\n",
       "      <th>Ceará</th>\n",
       "      <th>Fortaleza</th>\n",
       "      <td>103162</td>\n",
       "    </tr>\n",
       "    <tr>\n",
       "      <th rowspan=\"2\" valign=\"top\">Rio de Janeiro</th>\n",
       "      <th>Niterói</th>\n",
       "      <td>69592</td>\n",
       "    </tr>\n",
       "    <tr>\n",
       "      <th>Rio de Janeiro</th>\n",
       "      <td>88357</td>\n",
       "    </tr>\n",
       "    <tr>\n",
       "      <th>Santa Catarina</th>\n",
       "      <th>Florianópolis</th>\n",
       "      <td>109185</td>\n",
       "    </tr>\n",
       "    <tr>\n",
       "      <th rowspan=\"2\" valign=\"top\">São Paulo</th>\n",
       "      <th>Santos</th>\n",
       "      <td>112379</td>\n",
       "    </tr>\n",
       "    <tr>\n",
       "      <th>São Paulo</th>\n",
       "      <td>102189</td>\n",
       "    </tr>\n",
       "  </tbody>\n",
       "</table>\n",
       "</div>"
      ],
      "text/plain": [
       "                                preco\n",
       "estado         cidade                \n",
       "Ceará          Fortaleza       103162\n",
       "Rio de Janeiro Niterói          69592\n",
       "               Rio de Janeiro   88357\n",
       "Santa Catarina Florianópolis   109185\n",
       "São Paulo      Santos          112379\n",
       "               São Paulo       102189"
      ]
     },
     "execution_count": 15,
     "metadata": {},
     "output_type": "execute_result"
    }
   ],
   "source": [
    "# faturamento por estado e por cidade\n",
    "\n",
    "dados.groupby([\"estado\", \"cidade\"]).preco.sum().to_frame()"
   ]
  },
  {
   "cell_type": "code",
   "execution_count": 16,
   "id": "8286e768",
   "metadata": {},
   "outputs": [],
   "source": [
    "# faturamento por estado e por cidade\n",
    "# criando documento excel\n",
    "\n",
    "dados.groupby([\"estado\", \"cidade\"]).preco.sum().to_excel(\"faturamento_estado_cidade.xlsx\")"
   ]
  },
  {
   "cell_type": "markdown",
   "id": "ca86a378",
   "metadata": {},
   "source": [
    "### Visualização de dados"
   ]
  },
  {
   "cell_type": "code",
   "execution_count": null,
   "id": "409b58f5",
   "metadata": {},
   "outputs": [],
   "source": [
    "!pip install plotly_express"
   ]
  },
  {
   "cell_type": "code",
   "execution_count": 18,
   "id": "ed50f5bf",
   "metadata": {},
   "outputs": [
    {
     "ename": "ModuleNotFoundError",
     "evalue": "No module named 'plotly_express'",
     "output_type": "error",
     "traceback": [
      "\u001b[1;31m---------------------------------------------------------------------------\u001b[0m",
      "\u001b[1;31mModuleNotFoundError\u001b[0m                       Traceback (most recent call last)",
      "Cell \u001b[1;32mIn[18], line 1\u001b[0m\n\u001b[1;32m----> 1\u001b[0m \u001b[38;5;28;01mimport\u001b[39;00m \u001b[38;5;21;01mplotly_express\u001b[39;00m \u001b[38;5;28;01mas\u001b[39;00m \u001b[38;5;21;01mpx\u001b[39;00m\n",
      "\u001b[1;31mModuleNotFoundError\u001b[0m: No module named 'plotly_express'"
     ]
    }
   ],
   "source": [
    "import plotly_express as px"
   ]
  },
  {
   "cell_type": "code",
   "execution_count": null,
   "id": "6c569cb2",
   "metadata": {},
   "outputs": [],
   "source": [
    "# gerando gráficos\n",
    "\n",
    "grafico = px.histogram(dados, x=\"loja\", y=\"preco\", text_auto=True, color=\"forma_pagamento\")\n",
    "grafico.show()\n",
    "grafico.write_html(\"grafico_forma_pagamento.html\")"
   ]
  },
  {
   "cell_type": "code",
   "execution_count": null,
   "id": "ffa21b7e",
   "metadata": {},
   "outputs": [],
   "source": [
    "grafico = px.histogram(dados, x=\"cidade\", y=\"preco\", text_auto=True, color=\"forma_pagamento\")\n",
    "grafico.show()\n",
    "# grafico.write_html(\"grafico_forma_pagamento.html\")"
   ]
  },
  {
   "cell_type": "code",
   "execution_count": null,
   "id": "057e0688",
   "metadata": {},
   "outputs": [],
   "source": [
    "dados.head()"
   ]
  },
  {
   "cell_type": "markdown",
   "id": "efab4eea",
   "metadata": {},
   "source": [
    "### Listas (estruturas de dados)"
   ]
  },
  {
   "cell_type": "code",
   "execution_count": null,
   "id": "3938d215",
   "metadata": {},
   "outputs": [],
   "source": [
    "lista_colunas = [\"loja\", \"cidade\", \"estado\", \"regiao\", \"tamanho\", \"local_consumo\"]"
   ]
  },
  {
   "cell_type": "code",
   "execution_count": null,
   "id": "35cd2374",
   "metadata": {
    "scrolled": false
   },
   "outputs": [],
   "source": [
    "# estrutura de repetição (laço)\n",
    "\n",
    "for coluna in lista_colunas:\n",
    "    grafico = px.histogram(dados, x=coluna, y=\"preco\", text_auto=True, color=\"forma_pagamento\")\n",
    "    grafico.show()\n",
    "    grafico.write_html(f\"Grafico-{coluna}.html\")"
   ]
  },
  {
   "cell_type": "code",
   "execution_count": null,
   "id": "66d50254",
   "metadata": {},
   "outputs": [],
   "source": [
    "# grafico animado\n",
    "\n",
    "\n",
    "dados = pd.read_excel(\"vendas.xlsx\")"
   ]
  },
  {
   "cell_type": "code",
   "execution_count": null,
   "id": "c04f910e",
   "metadata": {},
   "outputs": [],
   "source": [
    "agrupado = dados.groupby(['loja', 'ano_mes']).preco.sum().to_frame()\n",
    "agrupado.reset_index(inplace=True)\n",
    "agrupado['acumulado'] = agrupado.groupby('loja').preco.cumsum()\n",
    "\n",
    "fig = px.bar(agrupado,\n",
    "        x='acumulado',\n",
    "        y=\"loja\",\n",
    "        color='loja',\n",
    "        text_auto=True,\n",
    "        range_x=[0,123000],\n",
    "        animation_frame='ano_mes')\n",
    "fig.show()\n",
    "fig.write_html(\"grafico_animado.html\")        "
   ]
  },
  {
   "cell_type": "code",
   "execution_count": null,
   "id": "86da2e20",
   "metadata": {},
   "outputs": [],
   "source": []
  },
  {
   "cell_type": "code",
   "execution_count": null,
   "id": "8ce0b536",
   "metadata": {},
   "outputs": [],
   "source": []
  },
  {
   "cell_type": "code",
   "execution_count": null,
   "id": "dc910a19",
   "metadata": {},
   "outputs": [],
   "source": []
  }
 ],
 "metadata": {
  "kernelspec": {
   "display_name": "Python 3 (ipykernel)",
   "language": "python",
   "name": "python3"
  },
  "language_info": {
   "codemirror_mode": {
    "name": "ipython",
    "version": 3
   },
   "file_extension": ".py",
   "mimetype": "text/x-python",
   "name": "python",
   "nbconvert_exporter": "python",
   "pygments_lexer": "ipython3",
   "version": "3.10.9"
  }
 },
 "nbformat": 4,
 "nbformat_minor": 5
}
